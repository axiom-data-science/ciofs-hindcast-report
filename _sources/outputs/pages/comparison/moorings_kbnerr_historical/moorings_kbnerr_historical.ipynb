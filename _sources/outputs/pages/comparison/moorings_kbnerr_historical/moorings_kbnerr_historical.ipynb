{
 "cells": [
  {
   "cell_type": "code",
   "execution_count": null,
   "id": "53c4c268",
   "metadata": {
    "tags": [
     "remove-input"
    ]
   },
   "outputs": [],
   "source": [
    "import intake\n",
    "import ciofs_hindcast_report as chr\n",
    "import hvplot.pandas  # noqa\n",
    "import ocean_model_skill_assessor as omsa\n",
    "import pandas as pd\n",
    "import cmocean.cm as cmo\n",
    "from IPython.display import Image, display\n"
   ]
  },
  {
   "cell_type": "markdown",
   "id": "6fbc3096",
   "metadata": {},
   "source": [
    "# Moorings (KBNERR): Historical, Kachemak Bay\n",
    "\n",
    "* moorings_kbnerr_historical\n",
    "\n",
    "See the full dataset page for more information: {ref}`page:moorings_kbnerr_historical`\n"
   ]
  },
  {
   "cell_type": "markdown",
   "id": "cd816fef",
   "metadata": {},
   "source": [
    "## Map of Moorings\n",
    "\n",
    "\n",
    "                \n",
    "```{figure} map_of_moorings_kbnerr_historical.png\n",
    "---\n",
    "name: fig-map-moorings_kbnerr_historical\n",
    "---\n",
    "Map of moorings_kbnerr_historical data locations\n",
    "```\n",
    "\n",
    "\n",
    "\n"
   ]
  },
  {
   "cell_type": "markdown",
   "id": "00dc90e9",
   "metadata": {},
   "source": [
    "## Performance Summary\n"
   ]
  },
  {
   "cell_type": "markdown",
   "id": "d0b2679b",
   "metadata": {},
   "source": [
    "### Sea water salinity: tidally-filtered\n",
    "\n",
    "\n",
    "                \n",
    "```{figure} moorings_kbnerr_historical_salt_subtidal.png\n",
    "---\n",
    "name: fig-overall-moorings_kbnerr_historical-salt-subtidal\n",
    "---\n",
    "Skill score for sea water salinity, tidally-filtered\n",
    "```\n",
    "\n",
    "\n",
    "\n"
   ]
  },
  {
   "cell_type": "markdown",
   "id": "919e4a20",
   "metadata": {},
   "source": [
    "### Sea water salinity: tidally-filtered, then monthly mean from data subtracted\n",
    "\n",
    "\n",
    "                \n",
    "```{figure} moorings_kbnerr_historical_salt_subtidal_subtract-monthly-mean.png\n",
    "---\n",
    "name: fig-overall-moorings_kbnerr_historical-salt-subtidal_subtract-monthly-mean\n",
    "---\n",
    "Skill score for sea water salinity, tidally-filtered, then monthly mean from data subtracted\n",
    "```\n",
    "\n",
    "\n",
    "\n"
   ]
  },
  {
   "cell_type": "markdown",
   "id": "59e1e61a",
   "metadata": {},
   "source": [
    "### Sea water temperature: tidally-filtered\n",
    "\n",
    "\n",
    "                \n",
    "```{figure} moorings_kbnerr_historical_temp_subtidal.png\n",
    "---\n",
    "name: fig-overall-moorings_kbnerr_historical-temp-subtidal\n",
    "---\n",
    "Skill score for sea water temperature, tidally-filtered\n",
    "```\n",
    "\n",
    "\n",
    "\n"
   ]
  },
  {
   "cell_type": "markdown",
   "id": "73557f8e",
   "metadata": {},
   "source": [
    "### Sea water temperature: tidally-filtered, then monthly mean from data subtracted\n",
    "\n",
    "\n",
    "                \n",
    "```{figure} moorings_kbnerr_historical_temp_subtidal_subtract-monthly-mean.png\n",
    "---\n",
    "name: fig-overall-moorings_kbnerr_historical-temp-subtidal_subtract-monthly-mean\n",
    "---\n",
    "Skill score for sea water temperature, tidally-filtered, then monthly mean from data subtracted\n",
    "```\n",
    "\n",
    "\n",
    "\n"
   ]
  },
  {
   "cell_type": "markdown",
   "id": "97736f32",
   "metadata": {},
   "source": [
    "## kacbcwq\n",
    "\n"
   ]
  },
  {
   "cell_type": "markdown",
   "id": "652d5715",
   "metadata": {},
   "source": [
    "### Sea water salinity: tidally-filtered\n"
   ]
  },
  {
   "cell_type": "markdown",
   "id": "a276909c",
   "metadata": {},
   "source": [
    "#### ciofs\n",
    "\n",
    "\n",
    "                \n",
    "```{figure} moorings_kbnerr_historical_ciofs/moorings_kbnerr_historical_kacbcwq_salt_2002-01-01_2003-01-01_subtidal.png\n",
    "---\n",
    "name: fig-ciofs-kacbcwq-salt-subtidal\n",
    "---\n",
    "Model-data comparison for kacbcwq of sea water salinity\n",
    "```\n",
    "\n"
   ]
  },
  {
   "cell_type": "markdown",
   "id": "f4974284",
   "metadata": {},
   "source": [
    "#### nwgoa\n",
    "\n",
    "\n",
    "                \n",
    "```{figure} moorings_kbnerr_historical_nwgoa/moorings_kbnerr_historical_kacbcwq_salt_2002-01-01_2003-01-01_subtidal.png\n",
    "---\n",
    "name: fig-nwgoa-kacbcwq-salt-subtidal\n",
    "---\n",
    "Model-data comparison for kacbcwq of sea water salinity\n",
    "```\n",
    "\n"
   ]
  },
  {
   "cell_type": "markdown",
   "id": "df25f427",
   "metadata": {},
   "source": [
    "### Sea water salinity: tidally-filtered, then monthly mean from data subtracted\n"
   ]
  },
  {
   "cell_type": "markdown",
   "id": "8e5d182c",
   "metadata": {},
   "source": [
    "#### ciofs\n",
    "\n",
    "\n",
    "                \n",
    "```{figure} moorings_kbnerr_historical_ciofs/moorings_kbnerr_historical_kacbcwq_salt_2002-01-01_2003-01-01_subtidal_subtract-monthly-mean.png\n",
    "---\n",
    "name: fig-ciofs-kacbcwq-salt-subtidal_subtract-monthly-mean\n",
    "---\n",
    "Model-data comparison for kacbcwq of sea water salinity\n",
    "```\n",
    "\n"
   ]
  },
  {
   "cell_type": "markdown",
   "id": "d2cf6a75",
   "metadata": {},
   "source": [
    "#### nwgoa\n",
    "\n",
    "\n",
    "                \n",
    "```{figure} moorings_kbnerr_historical_nwgoa/moorings_kbnerr_historical_kacbcwq_salt_2002-01-01_2003-01-01_subtidal_subtract-monthly-mean.png\n",
    "---\n",
    "name: fig-nwgoa-kacbcwq-salt-subtidal_subtract-monthly-mean\n",
    "---\n",
    "Model-data comparison for kacbcwq of sea water salinity\n",
    "```\n",
    "\n"
   ]
  },
  {
   "cell_type": "markdown",
   "id": "5e75b240",
   "metadata": {},
   "source": [
    "### Sea water temperature: tidally-filtered\n"
   ]
  },
  {
   "cell_type": "markdown",
   "id": "73426007",
   "metadata": {},
   "source": [
    "#### ciofs\n",
    "\n",
    "\n",
    "                \n",
    "```{figure} moorings_kbnerr_historical_ciofs/moorings_kbnerr_historical_kacbcwq_temp_2002-01-01_2003-01-01_subtidal.png\n",
    "---\n",
    "name: fig-ciofs-kacbcwq-temp-subtidal\n",
    "---\n",
    "Model-data comparison for kacbcwq of sea water temperature\n",
    "```\n",
    "\n"
   ]
  },
  {
   "cell_type": "markdown",
   "id": "82ad512c",
   "metadata": {},
   "source": [
    "#### nwgoa\n",
    "\n",
    "\n",
    "                \n",
    "```{figure} moorings_kbnerr_historical_nwgoa/moorings_kbnerr_historical_kacbcwq_temp_2002-01-01_2003-01-01_subtidal.png\n",
    "---\n",
    "name: fig-nwgoa-kacbcwq-temp-subtidal\n",
    "---\n",
    "Model-data comparison for kacbcwq of sea water temperature\n",
    "```\n",
    "\n"
   ]
  },
  {
   "cell_type": "markdown",
   "id": "6d8d63eb",
   "metadata": {},
   "source": [
    "### Sea water temperature: tidally-filtered, then monthly mean from data subtracted\n"
   ]
  },
  {
   "cell_type": "markdown",
   "id": "392fa6cf",
   "metadata": {},
   "source": [
    "#### ciofs\n",
    "\n",
    "\n",
    "                \n",
    "```{figure} moorings_kbnerr_historical_ciofs/moorings_kbnerr_historical_kacbcwq_temp_2002-01-01_2003-01-01_subtidal_subtract-monthly-mean.png\n",
    "---\n",
    "name: fig-ciofs-kacbcwq-temp-subtidal_subtract-monthly-mean\n",
    "---\n",
    "Model-data comparison for kacbcwq of sea water temperature\n",
    "```\n",
    "\n"
   ]
  },
  {
   "cell_type": "markdown",
   "id": "c1415f36",
   "metadata": {},
   "source": [
    "#### nwgoa\n",
    "\n",
    "\n",
    "                \n",
    "```{figure} moorings_kbnerr_historical_nwgoa/moorings_kbnerr_historical_kacbcwq_temp_2002-01-01_2003-01-01_subtidal_subtract-monthly-mean.png\n",
    "---\n",
    "name: fig-nwgoa-kacbcwq-temp-subtidal_subtract-monthly-mean\n",
    "---\n",
    "Model-data comparison for kacbcwq of sea water temperature\n",
    "```\n",
    "\n"
   ]
  },
  {
   "cell_type": "markdown",
   "id": "d3b276c6",
   "metadata": {},
   "source": [
    "## kacdlwq\n",
    "\n"
   ]
  },
  {
   "cell_type": "markdown",
   "id": "eb5c5aae",
   "metadata": {},
   "source": [
    "### Sea water salinity: tidally-filtered\n"
   ]
  },
  {
   "cell_type": "markdown",
   "id": "c89db503",
   "metadata": {},
   "source": [
    "#### ciofs\n",
    "\n",
    "\n",
    "                \n",
    "```{figure} moorings_kbnerr_historical_ciofs/moorings_kbnerr_historical_kacdlwq_salt_subtidal.png\n",
    "---\n",
    "name: fig-ciofs-kacdlwq-salt-subtidal\n",
    "---\n",
    "Model-data comparison for kacdlwq of sea water salinity\n",
    "```\n",
    "\n"
   ]
  },
  {
   "cell_type": "markdown",
   "id": "d8bfe628",
   "metadata": {},
   "source": [
    "#### nwgoa\n",
    "\n",
    "\n",
    "                \n",
    "```{figure} moorings_kbnerr_historical_nwgoa/moorings_kbnerr_historical_kacdlwq_salt_subtidal.png\n",
    "---\n",
    "name: fig-nwgoa-kacdlwq-salt-subtidal\n",
    "---\n",
    "Model-data comparison for kacdlwq of sea water salinity\n",
    "```\n",
    "\n"
   ]
  },
  {
   "cell_type": "markdown",
   "id": "35847f99",
   "metadata": {},
   "source": [
    "### Sea water temperature: tidally-filtered\n"
   ]
  },
  {
   "cell_type": "markdown",
   "id": "8a461743",
   "metadata": {},
   "source": [
    "#### ciofs\n",
    "\n",
    "\n",
    "                \n",
    "```{figure} moorings_kbnerr_historical_ciofs/moorings_kbnerr_historical_kacdlwq_temp_subtidal.png\n",
    "---\n",
    "name: fig-ciofs-kacdlwq-temp-subtidal\n",
    "---\n",
    "Model-data comparison for kacdlwq of sea water temperature\n",
    "```\n",
    "\n"
   ]
  },
  {
   "cell_type": "markdown",
   "id": "d246b9ed",
   "metadata": {},
   "source": [
    "#### nwgoa\n",
    "\n",
    "\n",
    "                \n",
    "```{figure} moorings_kbnerr_historical_nwgoa/moorings_kbnerr_historical_kacdlwq_temp_subtidal.png\n",
    "---\n",
    "name: fig-nwgoa-kacdlwq-temp-subtidal\n",
    "---\n",
    "Model-data comparison for kacdlwq of sea water temperature\n",
    "```\n",
    "\n"
   ]
  },
  {
   "cell_type": "markdown",
   "id": "8ce67a17",
   "metadata": {},
   "source": [
    "## kachowq\n",
    "\n"
   ]
  },
  {
   "cell_type": "markdown",
   "id": "7e88c613",
   "metadata": {},
   "source": [
    "### Sea water salinity: tidally-filtered\n"
   ]
  },
  {
   "cell_type": "markdown",
   "id": "ffc48a7b",
   "metadata": {},
   "source": [
    "#### ciofs\n",
    "\n",
    "\n",
    "                \n",
    "```{figure} moorings_kbnerr_historical_ciofs/moorings_kbnerr_historical_kachowq_salt_2001-01-01_2002-01-01_subtidal.png\n",
    "---\n",
    "name: fig-ciofs-kachowq-salt-subtidal\n",
    "---\n",
    "Model-data comparison for kachowq of sea water salinity\n",
    "```\n",
    "\n"
   ]
  },
  {
   "cell_type": "markdown",
   "id": "d3d608f6",
   "metadata": {},
   "source": [
    "#### nwgoa\n",
    "\n",
    "\n",
    "                \n",
    "```{figure} moorings_kbnerr_historical_nwgoa/moorings_kbnerr_historical_kachowq_salt_2001-01-01_2002-01-01_subtidal.png\n",
    "---\n",
    "name: fig-nwgoa-kachowq-salt-subtidal\n",
    "---\n",
    "Model-data comparison for kachowq of sea water salinity\n",
    "```\n",
    "\n"
   ]
  },
  {
   "cell_type": "markdown",
   "id": "7dce9aa3",
   "metadata": {},
   "source": [
    "### Sea water salinity: tidally-filtered, then monthly mean from data subtracted\n"
   ]
  },
  {
   "cell_type": "markdown",
   "id": "f2fffc69",
   "metadata": {},
   "source": [
    "#### ciofs\n",
    "\n",
    "\n",
    "                \n",
    "```{figure} moorings_kbnerr_historical_ciofs/moorings_kbnerr_historical_kachowq_salt_2001-01-01_2002-01-01_subtidal_subtract-monthly-mean.png\n",
    "---\n",
    "name: fig-ciofs-kachowq-salt-subtidal_subtract-monthly-mean\n",
    "---\n",
    "Model-data comparison for kachowq of sea water salinity\n",
    "```\n",
    "\n"
   ]
  },
  {
   "cell_type": "markdown",
   "id": "0d4a1ddb",
   "metadata": {},
   "source": [
    "#### nwgoa\n",
    "\n",
    "\n",
    "                \n",
    "```{figure} moorings_kbnerr_historical_nwgoa/moorings_kbnerr_historical_kachowq_salt_2001-01-01_2002-01-01_subtidal_subtract-monthly-mean.png\n",
    "---\n",
    "name: fig-nwgoa-kachowq-salt-subtidal_subtract-monthly-mean\n",
    "---\n",
    "Model-data comparison for kachowq of sea water salinity\n",
    "```\n",
    "\n"
   ]
  },
  {
   "cell_type": "markdown",
   "id": "9569058e",
   "metadata": {},
   "source": [
    "### Sea water temperature: tidally-filtered\n"
   ]
  },
  {
   "cell_type": "markdown",
   "id": "6a57671d",
   "metadata": {},
   "source": [
    "#### ciofs\n",
    "\n",
    "\n",
    "                \n",
    "```{figure} moorings_kbnerr_historical_ciofs/moorings_kbnerr_historical_kachowq_temp_2001-01-01_2002-01-01_subtidal.png\n",
    "---\n",
    "name: fig-ciofs-kachowq-temp-subtidal\n",
    "---\n",
    "Model-data comparison for kachowq of sea water temperature\n",
    "```\n",
    "\n"
   ]
  },
  {
   "cell_type": "markdown",
   "id": "5d1bcf82",
   "metadata": {},
   "source": [
    "#### nwgoa\n",
    "\n",
    "\n",
    "                \n",
    "```{figure} moorings_kbnerr_historical_nwgoa/moorings_kbnerr_historical_kachowq_temp_2001-01-01_2002-01-01_subtidal.png\n",
    "---\n",
    "name: fig-nwgoa-kachowq-temp-subtidal\n",
    "---\n",
    "Model-data comparison for kachowq of sea water temperature\n",
    "```\n",
    "\n"
   ]
  },
  {
   "cell_type": "markdown",
   "id": "86165469",
   "metadata": {},
   "source": [
    "### Sea water temperature: tidally-filtered, then monthly mean from data subtracted\n"
   ]
  },
  {
   "cell_type": "markdown",
   "id": "5bd86007",
   "metadata": {},
   "source": [
    "#### ciofs\n",
    "\n",
    "\n",
    "                \n",
    "```{figure} moorings_kbnerr_historical_ciofs/moorings_kbnerr_historical_kachowq_temp_2001-01-01_2002-01-01_subtidal_subtract-monthly-mean.png\n",
    "---\n",
    "name: fig-ciofs-kachowq-temp-subtidal_subtract-monthly-mean\n",
    "---\n",
    "Model-data comparison for kachowq of sea water temperature\n",
    "```\n",
    "\n"
   ]
  },
  {
   "cell_type": "markdown",
   "id": "2ede08a6",
   "metadata": {},
   "source": [
    "#### nwgoa\n",
    "\n",
    "\n",
    "                \n",
    "```{figure} moorings_kbnerr_historical_nwgoa/moorings_kbnerr_historical_kachowq_temp_2001-01-01_2002-01-01_subtidal_subtract-monthly-mean.png\n",
    "---\n",
    "name: fig-nwgoa-kachowq-temp-subtidal_subtract-monthly-mean\n",
    "---\n",
    "Model-data comparison for kachowq of sea water temperature\n",
    "```\n",
    "\n"
   ]
  },
  {
   "cell_type": "markdown",
   "id": "a0aacb0a",
   "metadata": {},
   "source": [
    "## kacpgwq\n",
    "\n"
   ]
  },
  {
   "cell_type": "markdown",
   "id": "8827720b",
   "metadata": {},
   "source": [
    "### Sea water salinity: tidally-filtered\n"
   ]
  },
  {
   "cell_type": "markdown",
   "id": "31be0d37",
   "metadata": {},
   "source": [
    "#### ciofs\n",
    "\n",
    "\n",
    "                \n",
    "```{figure} moorings_kbnerr_historical_ciofs/moorings_kbnerr_historical_kacpgwq_salt_2002-01-01_2003-01-01_subtidal.png\n",
    "---\n",
    "name: fig-ciofs-kacpgwq-salt-subtidal\n",
    "---\n",
    "Model-data comparison for kacpgwq of sea water salinity\n",
    "```\n",
    "\n"
   ]
  },
  {
   "cell_type": "markdown",
   "id": "2a593c68",
   "metadata": {},
   "source": [
    "#### nwgoa\n",
    "\n",
    "\n",
    "                \n",
    "```{figure} moorings_kbnerr_historical_nwgoa/moorings_kbnerr_historical_kacpgwq_salt_2002-01-01_2003-01-01_subtidal.png\n",
    "---\n",
    "name: fig-nwgoa-kacpgwq-salt-subtidal\n",
    "---\n",
    "Model-data comparison for kacpgwq of sea water salinity\n",
    "```\n",
    "\n"
   ]
  },
  {
   "cell_type": "markdown",
   "id": "01ebadd2",
   "metadata": {},
   "source": [
    "### Sea water salinity: tidally-filtered, then monthly mean from data subtracted\n"
   ]
  },
  {
   "cell_type": "markdown",
   "id": "779bcd0a",
   "metadata": {},
   "source": [
    "#### ciofs\n",
    "\n",
    "\n",
    "                \n",
    "```{figure} moorings_kbnerr_historical_ciofs/moorings_kbnerr_historical_kacpgwq_salt_2002-01-01_2003-01-01_subtidal_subtract-monthly-mean.png\n",
    "---\n",
    "name: fig-ciofs-kacpgwq-salt-subtidal_subtract-monthly-mean\n",
    "---\n",
    "Model-data comparison for kacpgwq of sea water salinity\n",
    "```\n",
    "\n"
   ]
  },
  {
   "cell_type": "markdown",
   "id": "b0a86841",
   "metadata": {},
   "source": [
    "#### nwgoa\n",
    "\n",
    "\n",
    "                \n",
    "```{figure} moorings_kbnerr_historical_nwgoa/moorings_kbnerr_historical_kacpgwq_salt_2002-01-01_2003-01-01_subtidal_subtract-monthly-mean.png\n",
    "---\n",
    "name: fig-nwgoa-kacpgwq-salt-subtidal_subtract-monthly-mean\n",
    "---\n",
    "Model-data comparison for kacpgwq of sea water salinity\n",
    "```\n",
    "\n"
   ]
  },
  {
   "cell_type": "markdown",
   "id": "c9154ae0",
   "metadata": {},
   "source": [
    "### Sea water temperature: tidally-filtered\n"
   ]
  },
  {
   "cell_type": "markdown",
   "id": "d0e7f4b8",
   "metadata": {},
   "source": [
    "#### ciofs\n",
    "\n"
   ]
  },
  {
   "cell_type": "markdown",
   "id": "5c72e5c7",
   "metadata": {},
   "source": [
    "#### nwgoa\n",
    "\n",
    "\n",
    "                \n",
    "```{figure} moorings_kbnerr_historical_nwgoa/moorings_kbnerr_historical_kacpgwq_temp_2002-01-01_2003-01-01_subtidal.png\n",
    "---\n",
    "name: fig-nwgoa-kacpgwq-temp-subtidal\n",
    "---\n",
    "Model-data comparison for kacpgwq of sea water temperature\n",
    "```\n",
    "\n"
   ]
  },
  {
   "cell_type": "markdown",
   "id": "8d3f8885",
   "metadata": {},
   "source": [
    "### Sea water temperature: tidally-filtered, then monthly mean from data subtracted\n"
   ]
  },
  {
   "cell_type": "markdown",
   "id": "50ef2cca",
   "metadata": {},
   "source": [
    "#### ciofs\n",
    "\n"
   ]
  },
  {
   "cell_type": "markdown",
   "id": "5e353014",
   "metadata": {},
   "source": [
    "#### nwgoa\n",
    "\n",
    "\n",
    "                \n",
    "```{figure} moorings_kbnerr_historical_nwgoa/moorings_kbnerr_historical_kacpgwq_temp_2002-01-01_2003-01-01_subtidal_subtract-monthly-mean.png\n",
    "---\n",
    "name: fig-nwgoa-kacpgwq-temp-subtidal_subtract-monthly-mean\n",
    "---\n",
    "Model-data comparison for kacpgwq of sea water temperature\n",
    "```\n",
    "\n"
   ]
  },
  {
   "cell_type": "markdown",
   "id": "28d7620c",
   "metadata": {},
   "source": [
    "## kacsewq\n",
    "\n"
   ]
  }
 ],
 "metadata": {},
 "nbformat": 4,
 "nbformat_minor": 5
}
